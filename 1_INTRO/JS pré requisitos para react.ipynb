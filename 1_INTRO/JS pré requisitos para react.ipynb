{
 "cells": [
  {
   "cell_type": "markdown",
   "metadata": {},
   "source": [
    "<h1>Conteúdos em JS como pré-requisito para aprender REACT</h1>"
   ]
  },
  {
   "cell_type": "markdown",
   "metadata": {},
   "source": [
    "## Intro\n",
    "\n",
    "1. **Vite** - Ferramenta usada para criar os projetos, ela contém os compiladores (traduzem as funções mais recenbtes do JS para os navegadores) e os bundlers (arquivo que contém todos os arquivos necessários para a execução do código)\n",
    "2. Iniciando um projeto:"
   ]
  },
  {
   "cell_type": "code",
   "execution_count": null,
   "metadata": {
    "vscode": {
     "languageId": "powershell"
    }
   },
   "outputs": [],
   "source": [
    "npm create vite@latest\n",
    "cd .\\nomeprojeto\\\n",
    "npm install\n",
    "npm run dev"
   ]
  },
  {
   "cell_type": "markdown",
   "metadata": {},
   "source": [
    "## Métodos e sintaxe"
   ]
  },
  {
   "cell_type": "markdown",
   "metadata": {},
   "source": [
    "### Nullish Coalescing Operator"
   ]
  },
  {
   "cell_type": "code",
   "execution_count": null,
   "metadata": {
    "vscode": {
     "languageId": "javascript"
    }
   },
   "outputs": [],
   "source": [
    "// ?? Operador OU que olha para apenas valores que são realmente invalidos (null, undefined)\n",
    "const idade = 0;\n",
    "document.body.innerText = 'Sua idade é: ' + (idade ?? 'Não informado')\n"
   ]
  },
  {
   "cell_type": "markdown",
   "metadata": {},
   "source": [
    "### Objetos"
   ]
  },
  {
   "cell_type": "code",
   "execution_count": null,
   "metadata": {
    "vscode": {
     "languageId": "javascript"
    }
   },
   "outputs": [],
   "source": [
    "const user = {\n",
    "\tname: 'Diego',\n",
    "\tidade: 27,\n",
    "\taddress: {\n",
    "\t\tstreet: 'Rua teste',\n",
    "\t\tnumber: 964,\n",
    "\t},\n",
    "};"
   ]
  },
  {
   "cell_type": "code",
   "execution_count": null,
   "metadata": {
    "vscode": {
     "languageId": "javascript"
    }
   },
   "outputs": [],
   "source": [
    "//JSON.stringify - Transforma para JSON\n",
    "\n",
    "//Object.keys - Vetor com todas as chaves do objeto\n",
    "document.body.innerText = JSON.stringify(Object.keys(user))\n",
    "\n",
    "//Object.values - Retorna todos os valores do objeto\n",
    "document.body.innerText = JSON.stringify(Object.values(user))\n",
    "\n",
    "//Object.entries - Retorna vetores com subvetores, sendo os subvetores 2 valores: a chave do objeto e o valor do objeto\n",
    "document.body.innerText = JSON.stringify(Object.entries(user))\n"
   ]
  },
  {
   "cell_type": "markdown",
   "metadata": {},
   "source": [
    "#### Objetos - Desestruração - Usado para obter um valor de um objeto para uma variavel"
   ]
  },
  {
   "cell_type": "code",
   "execution_count": null,
   "metadata": {
    "vscode": {
     "languageId": "javascript"
    }
   },
   "outputs": [],
   "source": [
    "//Desestruração - Usado para obter um valor de um objeto para uma variavel em qualquer lugar que lide com objetos\n",
    "const { address, idade:age, nickname = 'Fernandes'} = user //Obtem os valores de address e idade do objeto em duas variaveis chamadas address e age, além de criar outra variavel com valor padrão\n",
    "document.body.innerText = JSON.stringify({ address, age})\n",
    "\n",
    "\n",
    "function mostraIdade({ idade = 'Vazia'}){\n",
    "\treturn idade\n",
    "}\n",
    "document.body.innerText = mostraIdade(user)\n",
    "\n"
   ]
  },
  {
   "cell_type": "markdown",
   "metadata": {},
   "source": [
    "#### Objetos - Desestruração - Rest Operator"
   ]
  },
  {
   "cell_type": "code",
   "execution_count": null,
   "metadata": {
    "vscode": {
     "languageId": "javascript"
    }
   },
   "outputs": [],
   "source": [
    "//Pega o restante dos elementos\n",
    "const array = [1, 2, 3, 4, 5, 6]\n",
    "\n",
    "//Pega o valor 1 e salva na constante first, pula o segundo elemento, pega o terceiro elemento na constante third e pega o restante com  na variavel rest com ...rest\n",
    "const [first, , third, ...rest] = array; \n",
    "//Saída\n",
    "{\n",
    "\t\"first\": 1,\n",
    "\t\"third\": 3,\n",
    "\t\"rest\": [\n",
    "\t\t4,\n",
    "\t\t5,\n",
    "\t\t6\n",
    "\t]\n",
    "}\n"
   ]
  },
  {
   "cell_type": "markdown",
   "metadata": {},
   "source": [
    "#### Objetos -  Optional Chaining"
   ]
  },
  {
   "cell_type": "code",
   "execution_count": null,
   "metadata": {
    "vscode": {
     "languageId": "javascript"
    }
   },
   "outputs": [],
   "source": [
    "//Verifica se existe indices antes de tentar acessar\n",
    "const user = {\n",
    "\tname: 'Diego',\n",
    "\tidade: 27,\n",
    "\taddress: {\n",
    "\t\tstreet: 'Rua teste',\n",
    "\t\tnumber: 964,\n",
    "\n",
    "\t\tzip:{\n",
    "\t\t\tcode: '7982000',\n",
    "\t\t\tcity: 'Dourados',\n",
    "\t\t},\n",
    "\t\tshowFullAdress(){\n",
    "\t\t\treturn 'ok';\n",
    "\t\t}\n",
    "\t},\n",
    "};\n",
    "\n",
    "//Verifica se o indice address existe, se existir procura pelo indice zip, se existir pega o code, se não existir alguma a primeira verifição pula direto para 'Não informado'\n",
    "document.body.innerText = user.adress?.zip?.code ?? 'Não informado';\n",
    "\n",
    "//Verifica se a função existe dentro da chave address\n",
    "document.body.innerText = user.address?.showFullAdress?.()\n",
    "\n"
   ]
  },
  {
   "cell_type": "markdown",
   "metadata": {},
   "source": [
    "### Métodos de array"
   ]
  },
  {
   "cell_type": "markdown",
   "metadata": {},
   "source": [
    "#### Métodos de array - Map()"
   ]
  },
  {
   "cell_type": "code",
   "execution_count": null,
   "metadata": {
    "vscode": {
     "languageId": "javascript"
    }
   },
   "outputs": [
    {
     "ename": "",
     "evalue": "",
     "output_type": "error",
     "traceback": [
      "\u001b[1;31mA execução de células com 'Python 3.13.2' requer o pacote ipykernel.\n",
      "\u001b[1;31mExecute o seguinte comando para instalar \"ipykernel\" no ambiente do Python. \n",
      "\u001b[1;31mComando: \"c:/Users/alexf/AppData/Local/Programs/Python/Python313/python.exe -m pip install ipykernel -U --user --force-reinstall\""
     ]
    }
   ],
   "source": [
    "const array = [1, 2, 3, 4, 5];\n",
    "\n",
    "//Percorrer um array\n",
    "for (const i of array){\n",
    "\tdocument.body.innerText += i\n",
    "}\n",
    "\n",
    "//Map - Possui um retorno no método. Usado para transformar um array em outro array\n",
    "const novoArray = array.map(item => {\n",
    "\tif (item % 2 == 0){\n",
    "\t\treturn item * 10;\n",
    "}\n",
    "\treturn item;\n",
    "\n",
    "})\n",
    "\n",
    "document.body.innerText = JSON.stringify(novoArray)\n"
   ]
  },
  {
   "cell_type": "markdown",
   "metadata": {},
   "source": [
    "#### Métodos de array - Filter()"
   ]
  },
  {
   "cell_type": "code",
   "execution_count": null,
   "metadata": {
    "vscode": {
     "languageId": "javascript"
    }
   },
   "outputs": [],
   "source": [
    "//Filter - filtra um array os valores desejados dentro de um array\n",
    "const novoArray = array.filter(item => item % 2 == 0)\n",
    "\n",
    "document.body.innerText = JSON.stringify(novoArray)\n"
   ]
  },
  {
   "cell_type": "markdown",
   "metadata": {},
   "source": [
    "#### Métodos de array - Every()"
   ]
  },
  {
   "cell_type": "code",
   "execution_count": null,
   "metadata": {
    "vscode": {
     "languageId": "javascript"
    }
   },
   "outputs": [],
   "source": [
    "const array = [1, 2, 3, 4, 5];\n",
    "\n",
    "//Retorna um valor booleano se TODOS os itens satisfazerem uma condição\n",
    "const todosItensSaoNumeros = array.every(item => typeof item == 'number');\n",
    "\n",
    "document.body.innerText = JSON.stringify(todosItensSaoNumeros)"
   ]
  },
  {
   "cell_type": "markdown",
   "metadata": {},
   "source": [
    "#### Métodos de array - Some()"
   ]
  },
  {
   "cell_type": "code",
   "execution_count": null,
   "metadata": {
    "vscode": {
     "languageId": "javascript"
    }
   },
   "outputs": [],
   "source": [
    "const array = [1, 2, 3, 4, 5];\n",
    "\n",
    "//Retorna um valor booleano se pelo menos UM item satisfazerem uma condição\n",
    "const todosItensSaoNumeros = array.some(item => typeof item == 'number');\n",
    "\n",
    "document.body.innerText = JSON.stringify(todosItensSaoNumeros)\n",
    "//Saida: true"
   ]
  },
  {
   "cell_type": "markdown",
   "metadata": {},
   "source": [
    "#### Métodos de array - Find() e findIndex()"
   ]
  },
  {
   "cell_type": "code",
   "execution_count": null,
   "metadata": {
    "vscode": {
     "languageId": "javascript"
    }
   },
   "outputs": [],
   "source": [
    "const array = [1, 2, 3, 4, 5];\n",
    "\n",
    "//Encontra o primeiro item que satisfaz uma condição\n",
    "const par = array.find(item => item % 2 == 0);\n",
    "\n",
    "document.body.innerText = JSON.stringify(par)\n",
    "//Saida: 2\n",
    "\n",
    "//Retorna o indice do primeiro item que satisfaz uma condição\n",
    "const par = array.find(item => item % 2 == 0);\n",
    "//Saida: 1"
   ]
  },
  {
   "cell_type": "markdown",
   "metadata": {},
   "source": [
    "#### Métodos de array - Reduce()"
   ]
  },
  {
   "cell_type": "code",
   "execution_count": null,
   "metadata": {
    "vscode": {
     "languageId": "javascript"
    }
   },
   "outputs": [],
   "source": [
    "//Cria algo apartir de um array\n",
    "const rockets = [\n",
    "    {contry: 'Russia', launches: 32},\n",
    "    {contry: 'EUA', launches: 23},\n",
    "    {contry: 'China', launches: 15}\n",
    "]\n",
    "\n",
    "//Soma os valores de lauches iniciando o valor em 0\n",
    "const totalLaunchers = rockets.reduce((prevVal, elem) => prevVal + elem.launcher, 0)"
   ]
  },
  {
   "cell_type": "markdown",
   "metadata": {},
   "source": [
    "#### Template Literals"
   ]
  },
  {
   "cell_type": "code",
   "execution_count": null,
   "metadata": {
    "vscode": {
     "languageId": "javascript"
    }
   },
   "outputs": [],
   "source": [
    "//Concatenar variavel em uma string\n",
    "const name = 'Diego';\n",
    "const message = `Bem-vindo, ${name}`;\n",
    "\n",
    "document.body.innerText = message"
   ]
  },
  {
   "cell_type": "markdown",
   "metadata": {},
   "source": [
    "#### Promisses"
   ]
  },
  {
   "cell_type": "code",
   "execution_count": null,
   "metadata": {
    "vscode": {
     "languageId": "javascript"
    }
   },
   "outputs": [],
   "source": [
    " //É uma promessa que um conteudo vai ser ou não retornado de forma assincrona, devendo ser tratado\n",
    " //Toda função async vira uma promisse, e deve ser tratada com .then\n",
    "async function buscaDadosGitHub(){\n",
    "    try{\n",
    "        //Aguarda essa promisse finalizar para executar a linha seguinte\n",
    "        const response = await fetch('https://api.github.com/users/alexfelipe00');\n",
    "        const body = await response.json();\n",
    "\n",
    "        console.log(body);\n",
    "        return body.name;\n",
    "    } catch(err){\n",
    "        console.log(err);\n",
    "    } finally{\n",
    "        console.log('deu')\n",
    "    }\n",
    "\n",
    "}\n",
    "\n",
    "buscaDadosGitHub().then(name => {\n",
    "    console.log(name);\n",
    "});"
   ]
  }
 ],
 "metadata": {
  "kernelspec": {
   "display_name": "Python 3",
   "language": "python",
   "name": "python3"
  },
  "language_info": {
   "name": "python",
   "version": "3.13.2"
  }
 },
 "nbformat": 4,
 "nbformat_minor": 2
}
